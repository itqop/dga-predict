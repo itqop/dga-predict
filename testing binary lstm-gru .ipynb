{
 "cells": [
  {
   "cell_type": "markdown",
   "id": "d2e20364",
   "metadata": {},
   "source": [
    "# Сессия 3\n",
    "## Команда Cerebro\n",
    "### Участники: Власов Глеб, Калентьев Леон, Арастумян Александр\n"
   ]
  },
  {
   "cell_type": "code",
   "execution_count": 22,
   "id": "e1584507",
   "metadata": {
    "ExecuteTime": {
     "end_time": "2021-11-27T12:51:44.329829Z",
     "start_time": "2021-11-27T12:51:44.156539Z"
    }
   },
   "outputs": [],
   "source": [
    "import pandas as pd\n",
    "import tensorflow as tf\n",
    "import numpy as np\n",
    "import os\n",
    "import re\n",
    "from sklearn.model_selection import train_test_split\n",
    "from sklearn.metrics import confusion_matrix, f1_score, precision_score, recall_score, average_precision_score, roc_auc_score\n",
    "\n",
    "\n",
    "data_train = pd.read_csv('RESULT/train_ord_encode.csv')\n",
    "data_test = pd.read_csv('RESULT/test_ord_encode.csv')"
   ]
  },
  {
   "cell_type": "markdown",
   "id": "ae5dc823",
   "metadata": {},
   "source": [
    "## Подготовка данных к передаче в нейросеть"
   ]
  },
  {
   "cell_type": "code",
   "execution_count": 2,
   "id": "1f36a723",
   "metadata": {
    "ExecuteTime": {
     "end_time": "2021-11-27T10:15:38.741101Z",
     "start_time": "2021-11-27T10:15:38.737870Z"
    }
   },
   "outputs": [],
   "source": [
    "def parse_sample(sample):\n",
    "    record_defaults = [0] * 64\n",
    "    parsed = tf.io.decode_csv(records=sample, record_defaults=record_defaults)\n",
    "    x = tf.stack(parsed[0:63])\n",
    "    y = tf.stack(parsed[63])\n",
    "    \n",
    "    return x, y\n",
    "\n",
    "def data_processing(filename, batch_size, epochs, has_header=True):\n",
    "    if has_header:\n",
    "        dataset = tf.data.TextLineDataset(filename).skip(1)\n",
    "    else:\n",
    "        dataset = tf.data.TextLineDataset(filename)\n",
    "    \n",
    "    dataset = dataset.repeat(epochs)\n",
    "    dataset = dataset.map(parse_sample)\n",
    "    dataset = dataset.batch(batch_size)\n",
    "    \n",
    "    return dataset"
   ]
  },
  {
   "cell_type": "code",
   "execution_count": 3,
   "id": "6663c5e4",
   "metadata": {
    "ExecuteTime": {
     "end_time": "2021-11-27T10:15:41.431499Z",
     "start_time": "2021-11-27T10:15:40.887919Z"
    }
   },
   "outputs": [
    {
     "name": "stderr",
     "output_type": "stream",
     "text": [
      "2021-11-27 10:15:40.924647: I tensorflow/stream_executor/cuda/cuda_gpu_executor.cc:1050] successful NUMA node read from SysFS had negative value (-1), but there must be at least one NUMA node, so returning NUMA node zero\n",
      "2021-11-27 10:15:40.950348: I tensorflow/stream_executor/cuda/cuda_gpu_executor.cc:1050] successful NUMA node read from SysFS had negative value (-1), but there must be at least one NUMA node, so returning NUMA node zero\n",
      "2021-11-27 10:15:40.950644: I tensorflow/stream_executor/cuda/cuda_gpu_executor.cc:1050] successful NUMA node read from SysFS had negative value (-1), but there must be at least one NUMA node, so returning NUMA node zero\n",
      "2021-11-27 10:15:40.951996: I tensorflow/stream_executor/cuda/cuda_gpu_executor.cc:1050] successful NUMA node read from SysFS had negative value (-1), but there must be at least one NUMA node, so returning NUMA node zero\n",
      "2021-11-27 10:15:40.952564: I tensorflow/stream_executor/cuda/cuda_gpu_executor.cc:1050] successful NUMA node read from SysFS had negative value (-1), but there must be at least one NUMA node, so returning NUMA node zero\n",
      "2021-11-27 10:15:40.952866: I tensorflow/stream_executor/cuda/cuda_gpu_executor.cc:1050] successful NUMA node read from SysFS had negative value (-1), but there must be at least one NUMA node, so returning NUMA node zero\n",
      "2021-11-27 10:15:41.283253: I tensorflow/stream_executor/cuda/cuda_gpu_executor.cc:1050] successful NUMA node read from SysFS had negative value (-1), but there must be at least one NUMA node, so returning NUMA node zero\n",
      "2021-11-27 10:15:41.283535: I tensorflow/stream_executor/cuda/cuda_gpu_executor.cc:1050] successful NUMA node read from SysFS had negative value (-1), but there must be at least one NUMA node, so returning NUMA node zero\n",
      "2021-11-27 10:15:41.283771: I tensorflow/stream_executor/cuda/cuda_gpu_executor.cc:1050] successful NUMA node read from SysFS had negative value (-1), but there must be at least one NUMA node, so returning NUMA node zero\n",
      "2021-11-27 10:15:41.283987: I tensorflow/core/common_runtime/gpu/gpu_device.cc:1510] Created device /job:localhost/replica:0/task:0/device:GPU:0 with 4042 MB memory:  -> device: 0, name: NVIDIA GeForce RTX 2080, pci bus id: 0000:01:00.0, compute capability: 7.5\n"
     ]
    }
   ],
   "source": [
    "batch_size = 32\n",
    "epochs = 20\n",
    "\n",
    "train_set = data_processing('train_ord_encode.csv', batch_size, epochs)\n",
    "val_set = data_processing('val_ord_encode.csv', batch_size, epochs)\n",
    "test_set = data_processing('test_ord_encode.csv', batch_size, epochs)"
   ]
  },
  {
   "cell_type": "markdown",
   "id": "de65d8d4",
   "metadata": {},
   "source": [
    "## Построение GRU модели\n",
    "Первым делом было принято решения реализовать GRU модель.\n",
    "GRU - это улучшенная версия стандартной RNN, которая решает пробелую затухающего градиента."
   ]
  },
  {
   "cell_type": "code",
   "execution_count": null,
   "id": "b4e866a1",
   "metadata": {},
   "outputs": [],
   "source": [
    "model = tf.keras.models.Sequential([\n",
    "        tf.keras.layers.Embedding(input_dim=41, output_dim=128, input_length=63),\n",
    "        tf.keras.layers.Conv1D(filters=128, kernel_size=3, strides=1 ,padding='same', activation='relu'),\n",
    "        tf.keras.layers.MaxPool1D(pool_size=2, padding='same'),\n",
    "        tf.keras.layers.GRU(units=128),\n",
    "        tf.keras.layers.Dense(256, activation='tanh'),\n",
    "        tf.keras.layers.Dense(1, activation='sigmoid')\n",
    "        ])\n",
    "\n",
    "model.compile(loss='binary_crossentropy', optimizer='adam', metrics=['accuracy'])\n",
    "\n",
    "model.summary()\n",
    "\n",
    "checkpoint_path = os.path.join(r'./checkpoint')\n",
    "\n",
    "checkpoint = tf.keras.callbacks.ModelCheckpoint(\n",
    "                        filepath=checkpoint_path, \n",
    "                        monitor='val_loss', \n",
    "                        verbose=0, \n",
    "                        save_best_only=True, \n",
    "                        save_weights_only=False, \n",
    "                        mode='min', \n",
    "                        save_freq='epoch')"
   ]
  },
  {
   "cell_type": "code",
   "execution_count": 110,
   "id": "d49e84c8",
   "metadata": {
    "ExecuteTime": {
     "end_time": "2021-11-27T08:22:51.830140Z",
     "start_time": "2021-11-27T08:17:53.263323Z"
    }
   },
   "outputs": [
    {
     "name": "stdout",
     "output_type": "stream",
     "text": [
      "Epoch 1/20\n",
      "3900/3900 [==============================] - 14s 4ms/step - loss: 0.0324 - accuracy: 0.9877 - val_loss: 0.1545 - val_accuracy: 0.9591\n"
     ]
    },
    {
     "name": "stderr",
     "output_type": "stream",
     "text": [
      "WARNING:absl:Found untraced functions such as gru_cell_3_layer_call_and_return_conditional_losses, gru_cell_3_layer_call_fn, gru_cell_3_layer_call_fn, gru_cell_3_layer_call_and_return_conditional_losses, gru_cell_3_layer_call_and_return_conditional_losses while saving (showing 5 of 5). These functions will not be directly callable after loading.\n"
     ]
    },
    {
     "name": "stdout",
     "output_type": "stream",
     "text": [
      "INFO:tensorflow:Assets written to: ./checkpoint/assets\n"
     ]
    },
    {
     "name": "stderr",
     "output_type": "stream",
     "text": [
      "INFO:tensorflow:Assets written to: ./checkpoint/assets\n"
     ]
    },
    {
     "name": "stdout",
     "output_type": "stream",
     "text": [
      "Epoch 2/20\n",
      "3900/3900 [==============================] - 14s 4ms/step - loss: 0.0328 - accuracy: 0.9878 - val_loss: 0.1430 - val_accuracy: 0.9601\n"
     ]
    },
    {
     "name": "stderr",
     "output_type": "stream",
     "text": [
      "WARNING:absl:Found untraced functions such as gru_cell_3_layer_call_and_return_conditional_losses, gru_cell_3_layer_call_fn, gru_cell_3_layer_call_fn, gru_cell_3_layer_call_and_return_conditional_losses, gru_cell_3_layer_call_and_return_conditional_losses while saving (showing 5 of 5). These functions will not be directly callable after loading.\n"
     ]
    },
    {
     "name": "stdout",
     "output_type": "stream",
     "text": [
      "INFO:tensorflow:Assets written to: ./checkpoint/assets\n"
     ]
    },
    {
     "name": "stderr",
     "output_type": "stream",
     "text": [
      "INFO:tensorflow:Assets written to: ./checkpoint/assets\n"
     ]
    },
    {
     "name": "stdout",
     "output_type": "stream",
     "text": [
      "Epoch 3/20\n",
      "3900/3900 [==============================] - 14s 4ms/step - loss: 0.0339 - accuracy: 0.9877 - val_loss: 0.1426 - val_accuracy: 0.9621\n"
     ]
    },
    {
     "name": "stderr",
     "output_type": "stream",
     "text": [
      "WARNING:absl:Found untraced functions such as gru_cell_3_layer_call_and_return_conditional_losses, gru_cell_3_layer_call_fn, gru_cell_3_layer_call_fn, gru_cell_3_layer_call_and_return_conditional_losses, gru_cell_3_layer_call_and_return_conditional_losses while saving (showing 5 of 5). These functions will not be directly callable after loading.\n"
     ]
    },
    {
     "name": "stdout",
     "output_type": "stream",
     "text": [
      "INFO:tensorflow:Assets written to: ./checkpoint/assets\n"
     ]
    },
    {
     "name": "stderr",
     "output_type": "stream",
     "text": [
      "INFO:tensorflow:Assets written to: ./checkpoint/assets\n"
     ]
    },
    {
     "name": "stdout",
     "output_type": "stream",
     "text": [
      "Epoch 4/20\n",
      "3900/3900 [==============================] - 14s 4ms/step - loss: 0.0342 - accuracy: 0.9875 - val_loss: 0.1567 - val_accuracy: 0.9594\n",
      "Epoch 5/20\n",
      "3900/3900 [==============================] - 14s 4ms/step - loss: 0.0353 - accuracy: 0.9870 - val_loss: 0.1437 - val_accuracy: 0.9621\n",
      "Epoch 6/20\n",
      "3900/3900 [==============================] - 14s 4ms/step - loss: 0.0326 - accuracy: 0.9882 - val_loss: 0.1417 - val_accuracy: 0.9633\n"
     ]
    },
    {
     "name": "stderr",
     "output_type": "stream",
     "text": [
      "WARNING:absl:Found untraced functions such as gru_cell_3_layer_call_and_return_conditional_losses, gru_cell_3_layer_call_fn, gru_cell_3_layer_call_fn, gru_cell_3_layer_call_and_return_conditional_losses, gru_cell_3_layer_call_and_return_conditional_losses while saving (showing 5 of 5). These functions will not be directly callable after loading.\n"
     ]
    },
    {
     "name": "stdout",
     "output_type": "stream",
     "text": [
      "INFO:tensorflow:Assets written to: ./checkpoint/assets\n"
     ]
    },
    {
     "name": "stderr",
     "output_type": "stream",
     "text": [
      "INFO:tensorflow:Assets written to: ./checkpoint/assets\n"
     ]
    },
    {
     "name": "stdout",
     "output_type": "stream",
     "text": [
      "Epoch 7/20\n",
      "3900/3900 [==============================] - 14s 4ms/step - loss: 0.0371 - accuracy: 0.9864 - val_loss: 0.1393 - val_accuracy: 0.9636\n"
     ]
    },
    {
     "name": "stderr",
     "output_type": "stream",
     "text": [
      "WARNING:absl:Found untraced functions such as gru_cell_3_layer_call_and_return_conditional_losses, gru_cell_3_layer_call_fn, gru_cell_3_layer_call_fn, gru_cell_3_layer_call_and_return_conditional_losses, gru_cell_3_layer_call_and_return_conditional_losses while saving (showing 5 of 5). These functions will not be directly callable after loading.\n"
     ]
    },
    {
     "name": "stdout",
     "output_type": "stream",
     "text": [
      "INFO:tensorflow:Assets written to: ./checkpoint/assets\n"
     ]
    },
    {
     "name": "stderr",
     "output_type": "stream",
     "text": [
      "INFO:tensorflow:Assets written to: ./checkpoint/assets\n"
     ]
    },
    {
     "name": "stdout",
     "output_type": "stream",
     "text": [
      "Epoch 8/20\n",
      "3900/3900 [==============================] - 14s 4ms/step - loss: 0.0344 - accuracy: 0.9871 - val_loss: 0.1444 - val_accuracy: 0.9607\n",
      "Epoch 9/20\n",
      "3900/3900 [==============================] - 15s 4ms/step - loss: 0.0371 - accuracy: 0.9863 - val_loss: 0.1334 - val_accuracy: 0.9624\n"
     ]
    },
    {
     "name": "stderr",
     "output_type": "stream",
     "text": [
      "WARNING:absl:Found untraced functions such as gru_cell_3_layer_call_and_return_conditional_losses, gru_cell_3_layer_call_fn, gru_cell_3_layer_call_fn, gru_cell_3_layer_call_and_return_conditional_losses, gru_cell_3_layer_call_and_return_conditional_losses while saving (showing 5 of 5). These functions will not be directly callable after loading.\n"
     ]
    },
    {
     "name": "stdout",
     "output_type": "stream",
     "text": [
      "INFO:tensorflow:Assets written to: ./checkpoint/assets\n"
     ]
    },
    {
     "name": "stderr",
     "output_type": "stream",
     "text": [
      "INFO:tensorflow:Assets written to: ./checkpoint/assets\n"
     ]
    },
    {
     "name": "stdout",
     "output_type": "stream",
     "text": [
      "Epoch 10/20\n",
      "3900/3900 [==============================] - 14s 4ms/step - loss: 0.0339 - accuracy: 0.9873 - val_loss: 0.1378 - val_accuracy: 0.9619\n",
      "Epoch 11/20\n",
      "3900/3900 [==============================] - 14s 4ms/step - loss: 0.0354 - accuracy: 0.9869 - val_loss: 0.1527 - val_accuracy: 0.9631\n",
      "Epoch 12/20\n",
      "3900/3900 [==============================] - 14s 4ms/step - loss: 0.0393 - accuracy: 0.9851 - val_loss: 0.1423 - val_accuracy: 0.9596\n",
      "Epoch 13/20\n",
      "3900/3900 [==============================] - 14s 4ms/step - loss: 0.0367 - accuracy: 0.9858 - val_loss: 0.1445 - val_accuracy: 0.9587\n",
      "Epoch 14/20\n",
      "3900/3900 [==============================] - 14s 4ms/step - loss: 0.0394 - accuracy: 0.9856 - val_loss: 0.1420 - val_accuracy: 0.9634\n",
      "Epoch 15/20\n",
      "3900/3900 [==============================] - 14s 4ms/step - loss: 0.0398 - accuracy: 0.9849 - val_loss: 0.1218 - val_accuracy: 0.9632\n"
     ]
    },
    {
     "name": "stderr",
     "output_type": "stream",
     "text": [
      "WARNING:absl:Found untraced functions such as gru_cell_3_layer_call_and_return_conditional_losses, gru_cell_3_layer_call_fn, gru_cell_3_layer_call_fn, gru_cell_3_layer_call_and_return_conditional_losses, gru_cell_3_layer_call_and_return_conditional_losses while saving (showing 5 of 5). These functions will not be directly callable after loading.\n"
     ]
    },
    {
     "name": "stdout",
     "output_type": "stream",
     "text": [
      "INFO:tensorflow:Assets written to: ./checkpoint/assets\n"
     ]
    },
    {
     "name": "stderr",
     "output_type": "stream",
     "text": [
      "INFO:tensorflow:Assets written to: ./checkpoint/assets\n"
     ]
    },
    {
     "name": "stdout",
     "output_type": "stream",
     "text": [
      "Epoch 16/20\n",
      "3900/3900 [==============================] - 14s 4ms/step - loss: 0.0426 - accuracy: 0.9837 - val_loss: 0.1489 - val_accuracy: 0.9573\n",
      "Epoch 17/20\n",
      "3900/3900 [==============================] - 14s 4ms/step - loss: 0.0422 - accuracy: 0.9849 - val_loss: 0.1342 - val_accuracy: 0.9608\n",
      "Epoch 18/20\n",
      "3900/3900 [==============================] - 14s 4ms/step - loss: 0.0441 - accuracy: 0.9835 - val_loss: 0.1418 - val_accuracy: 0.9578\n",
      "Epoch 19/20\n",
      "3900/3900 [==============================] - 14s 4ms/step - loss: 0.0468 - accuracy: 0.9817 - val_loss: 0.1230 - val_accuracy: 0.9613\n",
      "Epoch 20/20\n",
      "3900/3900 [==============================] - 15s 4ms/step - loss: 0.0428 - accuracy: 0.9838 - val_loss: 0.1380 - val_accuracy: 0.9591\n"
     ]
    },
    {
     "data": {
      "text/plain": [
       "<keras.callbacks.History at 0x7f858c68b400>"
      ]
     },
     "execution_count": 110,
     "metadata": {},
     "output_type": "execute_result"
    }
   ],
   "source": [
    "model.fit(train_set, epochs=20, callbacks=checkpoint, \n",
    "            validation_data=val_set, steps_per_epoch = 124800 // 32, \n",
    "            validation_steps = 35000 // 32) "
   ]
  },
  {
   "cell_type": "code",
   "execution_count": 23,
   "id": "e2513e1f",
   "metadata": {
    "ExecuteTime": {
     "end_time": "2021-11-27T12:51:48.247550Z",
     "start_time": "2021-11-27T12:51:48.233701Z"
    }
   },
   "outputs": [],
   "source": [
    "# \n",
    "# \n",
    "# \n",
    "# \n",
    "# Функции из предыдущей сессии, будут использованы для проверки качества работы обученных весов \n",
    "# \n",
    "# \n",
    "# \n",
    "# \n",
    "\n",
    "\n",
    "dictinary = {'0':0, '1':1, '2':2, '3':3, '4':4, '5':5, '6':6,\n",
    "\t         '7':7, '8':8, '9':9, 'a':10, 'b':11, 'c':12, 'd':13, \n",
    "\t         'e':14, 'f':15, 'g':16, 'h':17, 'i':18, 'j':19, 'k':20, \n",
    "\t         'l':21, 'm':22, 'n':23, 'o':24, 'p':25, 'q':26, 'r':27,\n",
    "\t         's':28, 't':29, 'u':30, 'v':31, 'w':32, 'x':33, 'y':34,\n",
    "\t         'z':35, '!':36, '-':37, '.':38, '_':39, 'S':40}\n",
    "\n",
    "def _pad(domain, max_length=63):\n",
    "    if len(domain) < max_length:\n",
    "        domain = '!' * (max_length - len(domain)) + domain\n",
    "    \n",
    "    return domain\n",
    "\n",
    "# Функция по преобразованию домена \n",
    "def pad_domain(data, pad_fn=_pad):\n",
    "    data['domain'] = data['domain'].map(pad_fn)\n",
    "#     data.to_csv('data_bin_pad.csv', index=False)\n",
    "    \n",
    "    return data\n",
    "\n",
    "\n",
    "def _split_domain(domain, sep='?'):\n",
    "    result = []\n",
    "    \n",
    "    for ch in domain:\n",
    "        result.append(ch)\n",
    "        \n",
    "    result = list(map(lambda x: x.lower(), result))\n",
    "                  \n",
    "    return sep.join(result)\n",
    "\n",
    "\n",
    "def split_domain(data, split_fn=_split_domain, sep='?'):\n",
    "    data = pd.concat([pd.DataFrame(data['domain'].map(split_fn).values),\n",
    "                      data['subclass']], axis=1)\n",
    "                  \n",
    "    data.columns = ['domain', 'subclass']\n",
    "                  \n",
    "    cols = ['domain%d' %d for d in range(0, 63)]\n",
    "    data[cols] = data['domain'].str.split(sep, expand=True)\n",
    "    data = data[cols + ['subclass']]\n",
    "#     data.to_csv('model_test/data_split.csv', index=False)\n",
    "                  \n",
    "    return data\n",
    "\n",
    "\n",
    "def id_encoding(data, dictionary, embeding_cols):\n",
    "    data[embeding_cols] = data[embeding_cols]\\\n",
    "    .apply(lambda x: x.map(dictionary))\n",
    "    data = data[embeding_cols + ['subclass']]\n",
    "#     data.to_csv('bin_data\\./bin_data_encode.csv', index=False)\n",
    "    \n",
    "    return data\n",
    "\n",
    "\n",
    "def resd(model_path, x, threshold=0.5):\n",
    "\tmodel = tf.keras.models.load_model(model_path)\n",
    "\ty_pred_value = model.predict(x=x)\n",
    "\ty_pred = np.where(y_pred_value > threshold, 1, 0)\n",
    "\n",
    "\treturn y_pred\n",
    "\n",
    "\n",
    "def resd_csv(model_path, x, y_label, threshold=0.5):\n",
    "    result = {}\n",
    "    model = tf.keras.models.load_model(model_path)\n",
    "    y_pred_value = model.predict(x=x)\n",
    "    y_pred = np.where(y_pred_value > threshold, 1, 0)\n",
    "    result['cm'] = confusion_matrix(y_label, y_pred)\n",
    "    result['f1_score'] = f1_score(y_label, y_pred)\n",
    "    result['precision_score'] = precision_score(y_label, y_pred)\n",
    "    result['recall_score'] = precision_score(y_label, y_pred)\n",
    "    result['average_precision_score'] = average_precision_score(y_label, y_pred)\n",
    "    result['roc_auc_score'] = roc_auc_score(y_label, y_pred)\n",
    "    result['y_pred'] = y_pred\n",
    "    return result\n",
    "\n",
    "\n",
    "def prepair_test_data(x, model='gru') -> pd.DataFrame:\n",
    "    return helped(pd.read_csv(x) if '.csv' in x else x, model=model)\n",
    "\n",
    "\n",
    "def helped(data: str or pd.DataFrame, model='gru') -> pd.DataFrame:\n",
    "    if isinstance(data, str):\n",
    "        data_temp = re.sub(r'\\.[a-z]*','',data)\n",
    "        temp =  split_domain(pad_domain((pd.DataFrame({'domain': [data_temp], 'subclass': [0]}))))\n",
    "        em_cols = ['domain%d' %d for d in range(0, 63)]\n",
    "        temp = id_encoding(temp, dictinary, em_cols)\n",
    "        x = temp.iloc[:, 0:64].values.astype(np.float32)\n",
    "        \n",
    "        if model == 'gru':\n",
    "            res = resd(r'./checkpoint', x)[0][0]\n",
    "        elif model == 'lstm':\n",
    "            res = resd(r'./checkpointLSTM', x)[0][0]\n",
    "        \n",
    "        return pd.DataFrame({'domain': [data], 'subclass': ['dga' if res else 'legit']})\n",
    "    \n",
    "    elif isinstance(data, pd.DataFrame):\n",
    "        #data['subclass'] = pd.Series(1, index=data.index)\n",
    "        data['domain'] = data['domain']\\\n",
    "        .apply(lambda x: re.sub(r'\\.[a-z]*','',x))\n",
    "        data_temp = split_domain(pad_domain(data))\n",
    "        em_cols = ['domain%d' %d for d in range(0, 63)]\n",
    "        data_temp = id_encoding(data_temp, dictinary, em_cols)\n",
    "        x = data_temp.iloc[:, 0:64].values.astype(np.float32)\n",
    "        y = data_temp.iloc[:, -1].values\n",
    "        \n",
    "        if model == 'gru':\n",
    "            result = resd_csv(r'./checkpoint', x, y)\n",
    "        elif model =='lstm':\n",
    "            result = resd_csv(r'./checkpointLSTM', x, y)\n",
    "        \n",
    "        for (x, y) in result.items():\n",
    "            print((x, y))\n",
    "            \n",
    "        return result\n",
    "    \n",
    "    raise NotImplementedError(\n",
    "        print(\"Неправильный ввод\"),\n",
    "    )"
   ]
  },
  {
   "cell_type": "markdown",
   "id": "0f65ec99",
   "metadata": {},
   "source": [
    "## Вывод различных метрик:\n",
    "\n",
    "#### F1 SCORE\n",
    "Объединяет информацию о точности и полноте. Стремится к нулю, если точность или полнота стремятся к нулю. Уменьшается одинаково при уменьшении уменьшении и точности и полноты.\n",
    "\n",
    "#### ROC AUC\n",
    "Метрика для задач бинарной классификации. Значение площади под графиком, в котором y - это ture positive rate, x - false positive rate из матрицы ошибок."
   ]
  },
  {
   "cell_type": "code",
   "execution_count": 148,
   "id": "d5fdb4d2",
   "metadata": {
    "ExecuteTime": {
     "end_time": "2021-11-27T09:16:29.372697Z",
     "start_time": "2021-11-27T09:14:23.256911Z"
    }
   },
   "outputs": [
    {
     "name": "stdout",
     "output_type": "stream",
     "text": [
      "WARNING:tensorflow:Model was constructed with shape (None, 63) for input KerasTensor(type_spec=TensorSpec(shape=(None, 63), dtype=tf.float32, name='embedding_3_input'), name='embedding_3_input', description=\"created by layer 'embedding_3_input'\"), but it was called on an input with incompatible shape (None, 64).\n"
     ]
    },
    {
     "name": "stderr",
     "output_type": "stream",
     "text": [
      "WARNING:tensorflow:Model was constructed with shape (None, 63) for input KerasTensor(type_spec=TensorSpec(shape=(None, 63), dtype=tf.float32, name='embedding_3_input'), name='embedding_3_input', description=\"created by layer 'embedding_3_input'\"), but it was called on an input with incompatible shape (None, 64).\n"
     ]
    },
    {
     "name": "stdout",
     "output_type": "stream",
     "text": [
      "('cm', array([[980422,  19578],\n",
      "       [127140, 674527]]))\n",
      "('f1_score', 0.9019115212746327)\n",
      "('precision_score', 0.9717938928548274)\n",
      "('recall_score', 0.9717938928548274)\n",
      "('average_precision_score', 0.8882406780150595)\n",
      "('roc_auc_score', 0.9109137356745383)\n",
      "('y_pred', array([[0],\n",
      "       [1],\n",
      "       [1],\n",
      "       ...,\n",
      "       [0],\n",
      "       [0],\n",
      "       [1]]))\n"
     ]
    }
   ],
   "source": [
    "result = prepair_test_data('testQ1.csv')\n",
    "\n"
   ]
  },
  {
   "cell_type": "code",
   "execution_count": 9,
   "id": "dca75f39",
   "metadata": {
    "ExecuteTime": {
     "end_time": "2021-11-27T10:19:45.058858Z",
     "start_time": "2021-11-27T10:19:45.053786Z"
    }
   },
   "outputs": [],
   "source": [
    "def model_eval(model_path, x, y_label, threshold=0.5):\n",
    "\tresult = {}\n",
    "\tmodel = tf.keras.models.load_model(model_path)\n",
    "\ty_pred_value = model.predict(x=x)\n",
    "\ty_pred = np.where(y_pred_value > threshold, 1, 0)\n",
    "\tresult['cm'] = confusion_matrix(y_label, y_pred)\n",
    "\tresult['f1_score'] = f1_score(y_label, y_pred)\n",
    "\tresult['precision_score'] = precision_score(y_label, y_pred)\n",
    "\tresult['recall_score'] = precision_score(y_label, y_pred)\n",
    "\tresult['average_precision_score'] = average_precision_score(y_label, y_pred)\n",
    "\tresult['roc_auc_score'] = roc_auc_score(y_label, y_pred)\n",
    "\n",
    "\treturn result"
   ]
  },
  {
   "cell_type": "code",
   "execution_count": 130,
   "id": "d1f225fa",
   "metadata": {
    "ExecuteTime": {
     "end_time": "2021-11-27T08:31:18.526707Z",
     "start_time": "2021-11-27T08:31:18.490630Z"
    }
   },
   "outputs": [],
   "source": [
    "test = pd.read_csv('test2.csv')"
   ]
  },
  {
   "cell_type": "code",
   "execution_count": 8,
   "id": "5d009c0d",
   "metadata": {
    "ExecuteTime": {
     "end_time": "2021-11-27T10:19:33.130048Z",
     "start_time": "2021-11-27T10:19:33.126885Z"
    }
   },
   "outputs": [],
   "source": [
    "testset = pd.read_csv('test_ord_encode.csv')\n",
    "x = testset.iloc[:, 0:64].values.astype(np.float32)\n",
    "y = testset.iloc[:, -1].values\n",
    "result = model_eval(r'./checkpoint', x, y)\n",
    "\n",
    "for (x, y) in result.items():\n",
    "    print((x, y))"
   ]
  },
  {
   "cell_type": "code",
   "execution_count": 154,
   "id": "57b52878",
   "metadata": {
    "ExecuteTime": {
     "end_time": "2021-11-27T09:46:52.431074Z",
     "start_time": "2021-11-27T09:46:50.307782Z"
    }
   },
   "outputs": [
    {
     "name": "stdout",
     "output_type": "stream",
     "text": [
      "WARNING:tensorflow:Model was constructed with shape (None, 63) for input KerasTensor(type_spec=TensorSpec(shape=(None, 63), dtype=tf.float32, name='embedding_3_input'), name='embedding_3_input', description=\"created by layer 'embedding_3_input'\"), but it was called on an input with incompatible shape (None, 64).\n"
     ]
    },
    {
     "name": "stderr",
     "output_type": "stream",
     "text": [
      "WARNING:tensorflow:Model was constructed with shape (None, 63) for input KerasTensor(type_spec=TensorSpec(shape=(None, 63), dtype=tf.float32, name='embedding_3_input'), name='embedding_3_input', description=\"created by layer 'embedding_3_input'\"), but it was called on an input with incompatible shape (None, 64).\n"
     ]
    },
    {
     "data": {
      "text/html": [
       "<div>\n",
       "<style scoped>\n",
       "    .dataframe tbody tr th:only-of-type {\n",
       "        vertical-align: middle;\n",
       "    }\n",
       "\n",
       "    .dataframe tbody tr th {\n",
       "        vertical-align: top;\n",
       "    }\n",
       "\n",
       "    .dataframe thead th {\n",
       "        text-align: right;\n",
       "    }\n",
       "</style>\n",
       "<table border=\"1\" class=\"dataframe\">\n",
       "  <thead>\n",
       "    <tr style=\"text-align: right;\">\n",
       "      <th></th>\n",
       "      <th>domain</th>\n",
       "      <th>subclass</th>\n",
       "    </tr>\n",
       "  </thead>\n",
       "  <tbody>\n",
       "    <tr>\n",
       "      <th>0</th>\n",
       "      <td>habr.ru</td>\n",
       "      <td>legit</td>\n",
       "    </tr>\n",
       "  </tbody>\n",
       "</table>\n",
       "</div>"
      ],
      "text/plain": [
       "    domain subclass\n",
       "0  habr.ru    legit"
      ]
     },
     "execution_count": 154,
     "metadata": {},
     "output_type": "execute_result"
    }
   ],
   "source": [
    "prepair_test_data('habr.ru')"
   ]
  },
  {
   "cell_type": "markdown",
   "id": "04e24a39",
   "metadata": {},
   "source": [
    "### Построение LSTM модели\n",
    "\n",
    "LSTM - тип RNN с ячейкой памяти, идеально подходит для данной проблемы, т.к. мы передаем последовательность символов, которую необходимо помнить."
   ]
  },
  {
   "cell_type": "code",
   "execution_count": 5,
   "id": "6252ca8c",
   "metadata": {
    "ExecuteTime": {
     "end_time": "2021-11-27T10:16:04.733589Z",
     "start_time": "2021-11-27T10:16:04.391407Z"
    }
   },
   "outputs": [
    {
     "name": "stdout",
     "output_type": "stream",
     "text": [
      "Model: \"sequential\"\n",
      "_________________________________________________________________\n",
      "Layer (type)                 Output Shape              Param #   \n",
      "=================================================================\n",
      "embedding (Embedding)        (None, 63, 128)           5248      \n",
      "_________________________________________________________________\n",
      "conv1d (Conv1D)              (None, 63, 128)           49280     \n",
      "_________________________________________________________________\n",
      "max_pooling1d (MaxPooling1D) (None, 32, 128)           0         \n",
      "_________________________________________________________________\n",
      "lstm (LSTM)                  (None, 64)                49408     \n",
      "_________________________________________________________________\n",
      "dropout (Dropout)            (None, 64)                0         \n",
      "_________________________________________________________________\n",
      "dense (Dense)                (None, 1)                 65        \n",
      "=================================================================\n",
      "Total params: 104,001\n",
      "Trainable params: 104,001\n",
      "Non-trainable params: 0\n",
      "_________________________________________________________________\n"
     ]
    }
   ],
   "source": [
    "modelLSTM = tf.keras.models.Sequential([\n",
    "        tf.keras.layers.Embedding(input_dim=41, output_dim=128, input_length=63),\n",
    "        tf.keras.layers.Conv1D(filters=128, kernel_size=3, strides=1 ,padding='same', activation='relu'),\n",
    "        tf.keras.layers.MaxPool1D(pool_size=2, padding='same'),\n",
    "        tf.keras.layers.LSTM(64),\n",
    "        tf.keras.layers.Dropout(0.5),\n",
    "#         tf.keras.layers.Dense(256, activation='tanh'),\n",
    "        tf.keras.layers.Dense(1, activation='sigmoid')\n",
    "        ])\n",
    "\n",
    "modelLSTM.compile(loss='binary_crossentropy', optimizer='adam', metrics=['accuracy'])\n",
    "\n",
    "modelLSTM.summary()\n",
    "\n",
    "checkpointLSTM_path = os.path.join(r'./checkpointLSTM')\n",
    "\n",
    "checkpointLSTM = tf.keras.callbacks.ModelCheckpoint(\n",
    "                        filepath=checkpointLSTM_path, \n",
    "                        monitor='val_loss', \n",
    "                        verbose=0, \n",
    "                        save_best_only=True, \n",
    "                        save_weights_only=False, \n",
    "                        mode='min', \n",
    "                        save_freq='epoch')"
   ]
  },
  {
   "cell_type": "code",
   "execution_count": 6,
   "id": "f7514337",
   "metadata": {
    "ExecuteTime": {
     "end_time": "2021-11-27T10:18:57.454044Z",
     "start_time": "2021-11-27T10:16:06.496903Z"
    },
    "scrolled": true
   },
   "outputs": [
    {
     "name": "stderr",
     "output_type": "stream",
     "text": [
      "2021-11-27 10:16:06.507254: I tensorflow/compiler/mlir/mlir_graph_optimization_pass.cc:185] None of the MLIR Optimization Passes are enabled (registered 2)\n"
     ]
    },
    {
     "name": "stdout",
     "output_type": "stream",
     "text": [
      "Epoch 1/20\n"
     ]
    },
    {
     "name": "stderr",
     "output_type": "stream",
     "text": [
      "2021-11-27 10:16:07.992943: I tensorflow/stream_executor/cuda/cuda_dnn.cc:381] Loaded cuDNN version 8300\n"
     ]
    },
    {
     "name": "stdout",
     "output_type": "stream",
     "text": [
      "2773/2773 [==============================] - 12s 4ms/step - loss: 0.1973 - accuracy: 0.9221 - val_loss: 0.1389 - val_accuracy: 0.9481\n"
     ]
    },
    {
     "name": "stderr",
     "output_type": "stream",
     "text": [
      "2021-11-27 10:16:19.976047: W tensorflow/python/util/util.cc:348] Sets are not currently considered sequences, but this may change in the future, so consider avoiding using them.\n",
      "WARNING:absl:Found untraced functions such as lstm_cell_layer_call_and_return_conditional_losses, lstm_cell_layer_call_fn, lstm_cell_layer_call_fn, lstm_cell_layer_call_and_return_conditional_losses, lstm_cell_layer_call_and_return_conditional_losses while saving (showing 5 of 5). These functions will not be directly callable after loading.\n"
     ]
    },
    {
     "name": "stdout",
     "output_type": "stream",
     "text": [
      "INFO:tensorflow:Assets written to: ./checkpointLSTM/assets\n"
     ]
    },
    {
     "name": "stderr",
     "output_type": "stream",
     "text": [
      "INFO:tensorflow:Assets written to: ./checkpointLSTM/assets\n"
     ]
    },
    {
     "name": "stdout",
     "output_type": "stream",
     "text": [
      "Epoch 2/20\n",
      "2773/2773 [==============================] - 10s 3ms/step - loss: 0.1200 - accuracy: 0.9554 - val_loss: 0.1027 - val_accuracy: 0.9624\n"
     ]
    },
    {
     "name": "stderr",
     "output_type": "stream",
     "text": [
      "WARNING:absl:Found untraced functions such as lstm_cell_layer_call_and_return_conditional_losses, lstm_cell_layer_call_fn, lstm_cell_layer_call_fn, lstm_cell_layer_call_and_return_conditional_losses, lstm_cell_layer_call_and_return_conditional_losses while saving (showing 5 of 5). These functions will not be directly callable after loading.\n"
     ]
    },
    {
     "name": "stdout",
     "output_type": "stream",
     "text": [
      "INFO:tensorflow:Assets written to: ./checkpointLSTM/assets\n"
     ]
    },
    {
     "name": "stderr",
     "output_type": "stream",
     "text": [
      "INFO:tensorflow:Assets written to: ./checkpointLSTM/assets\n"
     ]
    },
    {
     "name": "stdout",
     "output_type": "stream",
     "text": [
      "Epoch 3/20\n",
      "2773/2773 [==============================] - 9s 3ms/step - loss: 0.0978 - accuracy: 0.9642 - val_loss: 0.0935 - val_accuracy: 0.9640\n"
     ]
    },
    {
     "name": "stderr",
     "output_type": "stream",
     "text": [
      "WARNING:absl:Found untraced functions such as lstm_cell_layer_call_and_return_conditional_losses, lstm_cell_layer_call_fn, lstm_cell_layer_call_fn, lstm_cell_layer_call_and_return_conditional_losses, lstm_cell_layer_call_and_return_conditional_losses while saving (showing 5 of 5). These functions will not be directly callable after loading.\n"
     ]
    },
    {
     "name": "stdout",
     "output_type": "stream",
     "text": [
      "INFO:tensorflow:Assets written to: ./checkpointLSTM/assets\n"
     ]
    },
    {
     "name": "stderr",
     "output_type": "stream",
     "text": [
      "INFO:tensorflow:Assets written to: ./checkpointLSTM/assets\n"
     ]
    },
    {
     "name": "stdout",
     "output_type": "stream",
     "text": [
      "Epoch 4/20\n",
      "2773/2773 [==============================] - 10s 3ms/step - loss: 0.0840 - accuracy: 0.9699 - val_loss: 0.0989 - val_accuracy: 0.9642\n",
      "Epoch 5/20\n",
      "2773/2773 [==============================] - 10s 3ms/step - loss: 0.0744 - accuracy: 0.9728 - val_loss: 0.0929 - val_accuracy: 0.9673\n"
     ]
    },
    {
     "name": "stderr",
     "output_type": "stream",
     "text": [
      "WARNING:absl:Found untraced functions such as lstm_cell_layer_call_and_return_conditional_losses, lstm_cell_layer_call_fn, lstm_cell_layer_call_fn, lstm_cell_layer_call_and_return_conditional_losses, lstm_cell_layer_call_and_return_conditional_losses while saving (showing 5 of 5). These functions will not be directly callable after loading.\n"
     ]
    },
    {
     "name": "stdout",
     "output_type": "stream",
     "text": [
      "INFO:tensorflow:Assets written to: ./checkpointLSTM/assets\n"
     ]
    },
    {
     "name": "stderr",
     "output_type": "stream",
     "text": [
      "INFO:tensorflow:Assets written to: ./checkpointLSTM/assets\n"
     ]
    },
    {
     "name": "stdout",
     "output_type": "stream",
     "text": [
      "Epoch 6/20\n",
      "2773/2773 [==============================] - 10s 3ms/step - loss: 0.0657 - accuracy: 0.9755 - val_loss: 0.0972 - val_accuracy: 0.9666\n",
      "Epoch 7/20\n",
      "2773/2773 [==============================] - 10s 3ms/step - loss: 0.0592 - accuracy: 0.9780 - val_loss: 0.1079 - val_accuracy: 0.9637\n",
      "Epoch 8/20\n",
      "2773/2773 [==============================] - 10s 3ms/step - loss: 0.0535 - accuracy: 0.9804 - val_loss: 0.1045 - val_accuracy: 0.9652\n",
      "Epoch 9/20\n",
      "2773/2773 [==============================] - 9s 3ms/step - loss: 0.0479 - accuracy: 0.9823 - val_loss: 0.1029 - val_accuracy: 0.9681\n",
      "Epoch 10/20\n",
      "2773/2773 [==============================] - 10s 3ms/step - loss: 0.0429 - accuracy: 0.9841 - val_loss: 0.1081 - val_accuracy: 0.9672\n",
      "Epoch 11/20\n",
      "2773/2773 [==============================] - 10s 3ms/step - loss: 0.0387 - accuracy: 0.9853 - val_loss: 0.1134 - val_accuracy: 0.9680\n",
      "Epoch 12/20\n",
      "2773/2773 [==============================] - 10s 3ms/step - loss: 0.0350 - accuracy: 0.9871 - val_loss: 0.1091 - val_accuracy: 0.9679\n",
      "Epoch 13/20\n",
      "2773/2773 [==============================] - 10s 3ms/step - loss: 0.0326 - accuracy: 0.9879 - val_loss: 0.1292 - val_accuracy: 0.9633\n",
      "Epoch 14/20\n",
      "2773/2773 [==============================] - 9s 3ms/step - loss: 0.0314 - accuracy: 0.9883 - val_loss: 0.1245 - val_accuracy: 0.9680\n",
      "Epoch 15/20\n",
      "2773/2773 [==============================] - 9s 3ms/step - loss: 0.0277 - accuracy: 0.9898 - val_loss: 0.1560 - val_accuracy: 0.9619\n",
      "Epoch 16/20\n",
      "2773/2773 [==============================] - 9s 3ms/step - loss: 0.0268 - accuracy: 0.9898 - val_loss: 0.1338 - val_accuracy: 0.9680\n",
      "Epoch 17/20\n",
      "1541/2773 [===============>..............] - ETA: 3s - loss: 0.0264 - accuracy: 0.9904WARNING:tensorflow:Your input ran out of data; interrupting training. Make sure that your dataset or generator can generate at least `steps_per_epoch * epochs` batches (in this case, 55460 batches). You may need to use the repeat() function when building your dataset.\n"
     ]
    },
    {
     "name": "stderr",
     "output_type": "stream",
     "text": [
      "WARNING:tensorflow:Your input ran out of data; interrupting training. Make sure that your dataset or generator can generate at least `steps_per_epoch * epochs` batches (in this case, 55460 batches). You may need to use the repeat() function when building your dataset.\n"
     ]
    },
    {
     "name": "stdout",
     "output_type": "stream",
     "text": [
      "\b\b\b\b\b\b\b\b\b\b\b\b\b\b\b\b\b\b\b\b\b\b\b\b\b\b\b\b\b\b\b\b\b\b\b\b\b\b\b\b\b\b\b\b\b\b\b\b\b\b\b\b\b\b\b\b\b\b\b\b\b\b\b\b\b\b\b\b\b\b\b\b\b\b\b\b\b\b\b\b\b\b\b\b\b\b\r",
      "2773/2773 [==============================] - 6s 2ms/step - loss: 0.0264 - accuracy: 0.9904 - val_loss: 0.1416 - val_accuracy: 0.9645\n"
     ]
    },
    {
     "data": {
      "text/plain": [
       "<keras.callbacks.History at 0x7fc4fc2b0190>"
      ]
     },
     "execution_count": 6,
     "metadata": {},
     "output_type": "execute_result"
    }
   ],
   "source": [
    "modelLSTM.fit(train_set, epochs=20, callbacks=checkpointLSTM, \n",
    "            validation_data=val_set, steps_per_epoch = 124800 // 45, \n",
    "            validation_steps = 32000 // 45) "
   ]
  },
  {
   "cell_type": "code",
   "execution_count": 11,
   "id": "17e8b933",
   "metadata": {
    "ExecuteTime": {
     "end_time": "2021-11-27T10:19:59.541885Z",
     "start_time": "2021-11-27T10:19:57.317150Z"
    }
   },
   "outputs": [
    {
     "name": "stdout",
     "output_type": "stream",
     "text": [
      "WARNING:tensorflow:Model was constructed with shape (None, 63) for input KerasTensor(type_spec=TensorSpec(shape=(None, 63), dtype=tf.float32, name='embedding_input'), name='embedding_input', description=\"created by layer 'embedding_input'\"), but it was called on an input with incompatible shape (None, 64).\n"
     ]
    },
    {
     "name": "stderr",
     "output_type": "stream",
     "text": [
      "WARNING:tensorflow:Model was constructed with shape (None, 63) for input KerasTensor(type_spec=TensorSpec(shape=(None, 63), dtype=tf.float32, name='embedding_input'), name='embedding_input', description=\"created by layer 'embedding_input'\"), but it was called on an input with incompatible shape (None, 64).\n"
     ]
    },
    {
     "name": "stdout",
     "output_type": "stream",
     "text": [
      "('cm', array([[8153,  292],\n",
      "       [ 563, 6243]]))\n",
      "('f1_score', 0.9359118506858557)\n",
      "('precision_score', 0.9553175210405509)\n",
      "('recall_score', 0.9553175210405509)\n",
      "('average_precision_score', 0.9132081897954123)\n",
      "('roc_auc_score', 0.9413510994982834)\n"
     ]
    }
   ],
   "source": [
    "testset = pd.read_csv('test_ord_encode.csv')\n",
    "x = testset.iloc[:, 0:64].values.astype(np.float32)\n",
    "y = testset.iloc[:, -1].values\n",
    "result = model_eval(r'./checkpointLSTM', x, y)\n",
    "\n",
    "for (x, y) in result.items():\n",
    "    print((x, y))"
   ]
  },
  {
   "cell_type": "code",
   "execution_count": 25,
   "id": "e5aa06fb",
   "metadata": {
    "ExecuteTime": {
     "end_time": "2021-11-27T12:52:50.059921Z",
     "start_time": "2021-11-27T12:52:48.427659Z"
    }
   },
   "outputs": [
    {
     "name": "stdout",
     "output_type": "stream",
     "text": [
      "WARNING:tensorflow:Model was constructed with shape (None, 63) for input KerasTensor(type_spec=TensorSpec(shape=(None, 63), dtype=tf.float32, name='embedding_input'), name='embedding_input', description=\"created by layer 'embedding_input'\"), but it was called on an input with incompatible shape (None, 64).\n"
     ]
    },
    {
     "name": "stderr",
     "output_type": "stream",
     "text": [
      "WARNING:tensorflow:Model was constructed with shape (None, 63) for input KerasTensor(type_spec=TensorSpec(shape=(None, 63), dtype=tf.float32, name='embedding_input'), name='embedding_input', description=\"created by layer 'embedding_input'\"), but it was called on an input with incompatible shape (None, 64).\n"
     ]
    },
    {
     "data": {
      "text/html": [
       "<div>\n",
       "<style scoped>\n",
       "    .dataframe tbody tr th:only-of-type {\n",
       "        vertical-align: middle;\n",
       "    }\n",
       "\n",
       "    .dataframe tbody tr th {\n",
       "        vertical-align: top;\n",
       "    }\n",
       "\n",
       "    .dataframe thead th {\n",
       "        text-align: right;\n",
       "    }\n",
       "</style>\n",
       "<table border=\"1\" class=\"dataframe\">\n",
       "  <thead>\n",
       "    <tr style=\"text-align: right;\">\n",
       "      <th></th>\n",
       "      <th>domain</th>\n",
       "      <th>subclass</th>\n",
       "    </tr>\n",
       "  </thead>\n",
       "  <tbody>\n",
       "    <tr>\n",
       "      <th>0</th>\n",
       "      <td>google.com</td>\n",
       "      <td>legit</td>\n",
       "    </tr>\n",
       "  </tbody>\n",
       "</table>\n",
       "</div>"
      ],
      "text/plain": [
       "       domain subclass\n",
       "0  google.com    legit"
      ]
     },
     "execution_count": 25,
     "metadata": {},
     "output_type": "execute_result"
    }
   ],
   "source": [
    "prepair_test_data('google.com', model='lstm')"
   ]
  },
  {
   "cell_type": "code",
   "execution_count": null,
   "id": "741e072c",
   "metadata": {},
   "outputs": [],
   "source": []
  }
 ],
 "metadata": {
  "kernelspec": {
   "display_name": "Python 3 (ipykernel)",
   "language": "python",
   "name": "python3"
  },
  "language_info": {
   "codemirror_mode": {
    "name": "ipython",
    "version": 3
   },
   "file_extension": ".py",
   "mimetype": "text/x-python",
   "name": "python",
   "nbconvert_exporter": "python",
   "pygments_lexer": "ipython3",
   "version": "3.8.10"
  }
 },
 "nbformat": 4,
 "nbformat_minor": 5
}
